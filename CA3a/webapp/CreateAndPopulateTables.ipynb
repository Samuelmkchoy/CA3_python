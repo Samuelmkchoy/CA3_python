{
 "cells": [
  {
   "cell_type": "code",
   "execution_count": 1,
   "metadata": {},
   "outputs": [
    {
     "name": "stdout",
     "output_type": "stream",
     "text": [
      "Requirement already satisfied: DBcm in c:\\users\\samue\\appdata\\local\\programs\\python\\python311\\lib\\site-packages (2.1)\n",
      "Requirement already satisfied: mysql-connector-python in c:\\users\\samue\\appdata\\local\\programs\\python\\python311\\lib\\site-packages (from DBcm) (8.0.32)\n",
      "Requirement already satisfied: protobuf<=3.20.3,>=3.11.0 in c:\\users\\samue\\appdata\\local\\programs\\python\\python311\\lib\\site-packages (from mysql-connector-python->DBcm) (3.20.3)\n",
      "Note: you may need to restart the kernel to use updated packages.\n"
     ]
    }
   ],
   "source": [
    "%pip install DBcm"
   ]
  },
  {
   "cell_type": "code",
   "execution_count": 2,
   "metadata": {},
   "outputs": [],
   "source": [
    "import DBcm  # This code assumes the MariaDB server is installed, a database exists, with a user/password created."
   ]
  },
  {
   "cell_type": "code",
   "execution_count": 3,
   "metadata": {},
   "outputs": [
    {
     "name": "stdout",
     "output_type": "stream",
     "text": [
      "['ConnectionError', 'CredentialsError', 'SQLError', 'UseDatabase', '__builtins__', '__cached__', '__doc__', '__file__', '__loader__', '__name__', '__package__', '__spec__', 'mysql', 'sqlite3']\n"
     ]
    }
   ],
   "source": [
    "print(dir(DBcm))"
   ]
  },
  {
   "cell_type": "code",
   "execution_count": 4,
   "metadata": {},
   "outputs": [],
   "source": [
    "config = {\n",
    "    \"host\": \"localhost\",\n",
    "    \"database\": \"swimmingDB\",\n",
    "    \"user\": \"swimuser\",\n",
    "    \"password\": \"swimpasswd\",\n",
    "}"
   ]
  },
  {
   "cell_type": "code",
   "execution_count": 5,
   "metadata": {},
   "outputs": [],
   "source": [
    "with DBcm.UseDatabase(config) as db:\n",
    "    SQL = \"show databases\"\n",
    "    db.execute(SQL)\n",
    "    results = db.fetchall()"
   ]
  },
  {
   "cell_type": "code",
   "execution_count": 6,
   "metadata": {},
   "outputs": [
    {
     "data": {
      "text/plain": [
       "[('information_schema',), ('swimdatadb',), ('swimmingdb',)]"
      ]
     },
     "execution_count": 6,
     "metadata": {},
     "output_type": "execute_result"
    }
   ],
   "source": [
    "results"
   ]
  },
  {
   "cell_type": "code",
   "execution_count": 7,
   "metadata": {},
   "outputs": [
    {
     "data": {
      "text/plain": [
       "list"
      ]
     },
     "execution_count": 7,
     "metadata": {},
     "output_type": "execute_result"
    }
   ],
   "source": [
    "type(results)"
   ]
  },
  {
   "cell_type": "code",
   "execution_count": 8,
   "metadata": {},
   "outputs": [
    {
     "data": {
      "text/plain": [
       "tuple"
      ]
     },
     "execution_count": 8,
     "metadata": {},
     "output_type": "execute_result"
    }
   ],
   "source": [
    "type(results[0])"
   ]
  },
  {
   "cell_type": "code",
   "execution_count": 9,
   "metadata": {},
   "outputs": [
    {
     "name": "stdout",
     "output_type": "stream",
     "text": [
      "information_schema\n",
      "swimdatadb\n",
      "swimmingdb\n"
     ]
    }
   ],
   "source": [
    "for row in results:\n",
    "    print(row[0])"
   ]
  },
  {
   "cell_type": "code",
   "execution_count": 10,
   "metadata": {},
   "outputs": [
    {
     "name": "stdout",
     "output_type": "stream",
     "text": [
      "('information_schema',)\n",
      "('swimdatadb',)\n",
      "('swimmingdb',)\n"
     ]
    }
   ],
   "source": [
    "for row in results:\n",
    "    print(row)"
   ]
  },
  {
   "cell_type": "code",
   "execution_count": 11,
   "metadata": {},
   "outputs": [],
   "source": [
    "from records import records"
   ]
  },
  {
   "cell_type": "code",
   "execution_count": 12,
   "metadata": {},
   "outputs": [
    {
     "data": {
      "text/plain": [
       "dict_keys(['LCMen', 'LCWomen', 'SCMen', 'SCWomen'])"
      ]
     },
     "execution_count": 12,
     "metadata": {},
     "output_type": "execute_result"
    }
   ],
   "source": [
    "records.keys()"
   ]
  },
  {
   "cell_type": "code",
   "execution_count": 13,
   "metadata": {},
   "outputs": [],
   "source": [
    "tables = list(records.keys())"
   ]
  },
  {
   "cell_type": "code",
   "execution_count": 14,
   "metadata": {},
   "outputs": [
    {
     "data": {
      "text/plain": [
       "['LCMen', 'LCWomen', 'SCMen', 'SCWomen']"
      ]
     },
     "execution_count": 14,
     "metadata": {},
     "output_type": "execute_result"
    }
   ],
   "source": [
    "tables"
   ]
  },
  {
   "cell_type": "code",
   "execution_count": 15,
   "metadata": {},
   "outputs": [],
   "source": [
    "for table in records.keys():\n",
    "    with DBcm.UseDatabase(config) as db:\n",
    "        SQL = f\"\"\"\n",
    "                    create table if not exists {table} (\n",
    "                        event varchar(32) not null,\n",
    "                        time varchar(16) not null \n",
    "                    )        \n",
    "        \"\"\"\n",
    "        db.execute(SQL)"
   ]
  },
  {
   "cell_type": "code",
   "execution_count": 16,
   "metadata": {},
   "outputs": [
    {
     "data": {
      "text/plain": [
       "{'100m backstroke': '48.33',\n",
       " '100m breaststroke': '55.28',\n",
       " '100m butterfly': '47.78',\n",
       " '100m freestyle': '44.84',\n",
       " '100m individual medley': '49.28',\n",
       " '1500m freestyle': '14:06.88',\n",
       " '200m backstroke': '1:45.63',\n",
       " '200m breaststroke': '2:00.16',\n",
       " '200m butterfly': '1:46.85',\n",
       " '200m freestyle': '1:39.37',\n",
       " '200m individual medley': '1:49.63',\n",
       " '400m freestyle': '3:32.25',\n",
       " '400m individual medley': '3:54.81',\n",
       " '4×100m freestyle relay': '3:03.03',\n",
       " '4×100m medley relay': '3:19.16',\n",
       " '4×200m freestyle relay': '6:46.81',\n",
       " '4×50m freestyle relay': '1:20.77',\n",
       " '4×50m medley relay': '1:30.14',\n",
       " '50m backstroke': '22.22',\n",
       " '50m breaststroke': '24.95',\n",
       " '50m butterfly': '21.75',\n",
       " '50m freestyle': '20.16',\n",
       " '800m freestyle': '7:23.42'}"
      ]
     },
     "execution_count": 16,
     "metadata": {},
     "output_type": "execute_result"
    }
   ],
   "source": [
    "records[\"SCMen\"]"
   ]
  },
  {
   "cell_type": "code",
   "execution_count": 17,
   "metadata": {},
   "outputs": [
    {
     "name": "stdout",
     "output_type": "stream",
     "text": [
      "('100m backstroke', '48.33')\n",
      "('100m breaststroke', '55.28')\n",
      "('100m butterfly', '47.78')\n",
      "('100m freestyle', '44.84')\n",
      "('100m individual medley', '49.28')\n",
      "('1500m freestyle', '14:06.88')\n",
      "('200m backstroke', '1:45.63')\n",
      "('200m breaststroke', '2:00.16')\n",
      "('200m butterfly', '1:46.85')\n",
      "('200m freestyle', '1:39.37')\n",
      "('200m individual medley', '1:49.63')\n",
      "('400m freestyle', '3:32.25')\n",
      "('400m individual medley', '3:54.81')\n",
      "('4×100m freestyle relay', '3:03.03')\n",
      "('4×100m medley relay', '3:19.16')\n",
      "('4×200m freestyle relay', '6:46.81')\n",
      "('4×50m freestyle relay', '1:20.77')\n",
      "('4×50m medley relay', '1:30.14')\n",
      "('50m backstroke', '22.22')\n",
      "('50m breaststroke', '24.95')\n",
      "('50m butterfly', '21.75')\n",
      "('50m freestyle', '20.16')\n",
      "('800m freestyle', '7:23.42')\n"
     ]
    }
   ],
   "source": [
    "for row in records[\"SCMen\"].items():\n",
    "    print(row)"
   ]
  },
  {
   "cell_type": "code",
   "execution_count": 18,
   "metadata": {},
   "outputs": [],
   "source": [
    "for table in records.keys():\n",
    "    with DBcm.UseDatabase(config) as db:\n",
    "        SQL = f\"\"\"\n",
    "                    insert into {table} \n",
    "                    (event, time)\n",
    "                    values \n",
    "                    ( %s, %s )\n",
    "        \"\"\"\n",
    "        for row in records[\"SCMen\"].items():\n",
    "            db.execute(SQL, row)"
   ]
  },
  {
   "cell_type": "code",
   "execution_count": 19,
   "metadata": {},
   "outputs": [],
   "source": [
    "data = [row for row in records[\"SCMen\"].items()]"
   ]
  },
  {
   "cell_type": "code",
   "execution_count": 20,
   "metadata": {},
   "outputs": [
    {
     "data": {
      "text/plain": [
       "[('100m backstroke', '48.33'),\n",
       " ('100m breaststroke', '55.28'),\n",
       " ('100m butterfly', '47.78'),\n",
       " ('100m freestyle', '44.84'),\n",
       " ('100m individual medley', '49.28'),\n",
       " ('1500m freestyle', '14:06.88'),\n",
       " ('200m backstroke', '1:45.63'),\n",
       " ('200m breaststroke', '2:00.16'),\n",
       " ('200m butterfly', '1:46.85'),\n",
       " ('200m freestyle', '1:39.37'),\n",
       " ('200m individual medley', '1:49.63'),\n",
       " ('400m freestyle', '3:32.25'),\n",
       " ('400m individual medley', '3:54.81'),\n",
       " ('4×100m freestyle relay', '3:03.03'),\n",
       " ('4×100m medley relay', '3:19.16'),\n",
       " ('4×200m freestyle relay', '6:46.81'),\n",
       " ('4×50m freestyle relay', '1:20.77'),\n",
       " ('4×50m medley relay', '1:30.14'),\n",
       " ('50m backstroke', '22.22'),\n",
       " ('50m breaststroke', '24.95'),\n",
       " ('50m butterfly', '21.75'),\n",
       " ('50m freestyle', '20.16'),\n",
       " ('800m freestyle', '7:23.42')]"
      ]
     },
     "execution_count": 20,
     "metadata": {},
     "output_type": "execute_result"
    }
   ],
   "source": [
    "data"
   ]
  },
  {
   "cell_type": "code",
   "execution_count": 21,
   "metadata": {},
   "outputs": [],
   "source": [
    "for table in records.keys():\n",
    "    with DBcm.UseDatabase(config) as db:\n",
    "        SQL = f\"\"\"\n",
    "                    insert into {table} \n",
    "                    (event, time)\n",
    "                    values \n",
    "                    ( %s, %s )\n",
    "        \"\"\"\n",
    "        data = [row for row in records[table].items()]\n",
    "        db.executemany(SQL, data)"
   ]
  },
  {
   "cell_type": "code",
   "execution_count": 22,
   "metadata": {},
   "outputs": [],
   "source": [
    "with DBcm.UseDatabase(config) as db:\n",
    "    SQL = \"select * from LCWomen\"\n",
    "    db.execute(SQL)\n",
    "    results = db.fetchall()"
   ]
  },
  {
   "cell_type": "code",
   "execution_count": 23,
   "metadata": {},
   "outputs": [
    {
     "data": {
      "text/plain": [
       "[('100m backstroke', '48.33'),\n",
       " ('100m breaststroke', '55.28'),\n",
       " ('100m butterfly', '47.78'),\n",
       " ('100m freestyle', '44.84'),\n",
       " ('100m individual medley', '49.28'),\n",
       " ('1500m freestyle', '14:06.88'),\n",
       " ('200m backstroke', '1:45.63'),\n",
       " ('200m breaststroke', '2:00.16'),\n",
       " ('200m butterfly', '1:46.85'),\n",
       " ('200m freestyle', '1:39.37'),\n",
       " ('200m individual medley', '1:49.63'),\n",
       " ('400m freestyle', '3:32.25'),\n",
       " ('400m individual medley', '3:54.81'),\n",
       " ('4×100m freestyle relay', '3:03.03'),\n",
       " ('4×100m medley relay', '3:19.16'),\n",
       " ('4×200m freestyle relay', '6:46.81'),\n",
       " ('4×50m freestyle relay', '1:20.77'),\n",
       " ('4×50m medley relay', '1:30.14'),\n",
       " ('50m backstroke', '22.22'),\n",
       " ('50m breaststroke', '24.95'),\n",
       " ('50m butterfly', '21.75'),\n",
       " ('50m freestyle', '20.16'),\n",
       " ('800m freestyle', '7:23.42'),\n",
       " ('100m backstroke', '57.45'),\n",
       " ('100m breaststroke', '1:04.13'),\n",
       " ('100m butterfly', '55.48'),\n",
       " ('100m freestyle', '51.71'),\n",
       " ('1500m freestyle', '15:20.48'),\n",
       " ('200m backstroke', '2:03.35'),\n",
       " ('200m breaststroke', '2:18.95'),\n",
       " ('200m butterfly', '2:01.81'),\n",
       " ('200m freestyle', '1:52.98'),\n",
       " ('200m individual medley', '2:06.12'),\n",
       " ('400m freestyle', '3:56.40'),\n",
       " ('400m individual medley', '4:26.36'),\n",
       " ('4×100m freestyle relay', '3:29.69'),\n",
       " ('4×100m medley relay', '3:50.40'),\n",
       " ('4×200m freestyle relay', '7:39.29'),\n",
       " ('50m backstroke', '26.98'),\n",
       " ('50m breaststroke', '29.30'),\n",
       " ('50m butterfly', '24.43'),\n",
       " ('50m freestyle', '23.67'),\n",
       " ('800m freestyle', '8:04.79'),\n",
       " ('100m backstroke', '48.33'),\n",
       " ('100m breaststroke', '55.28'),\n",
       " ('100m butterfly', '47.78'),\n",
       " ('100m freestyle', '44.84'),\n",
       " ('100m individual medley', '49.28'),\n",
       " ('1500m freestyle', '14:06.88'),\n",
       " ('200m backstroke', '1:45.63'),\n",
       " ('200m breaststroke', '2:00.16'),\n",
       " ('200m butterfly', '1:46.85'),\n",
       " ('200m freestyle', '1:39.37'),\n",
       " ('200m individual medley', '1:49.63'),\n",
       " ('400m freestyle', '3:32.25'),\n",
       " ('400m individual medley', '3:54.81'),\n",
       " ('4×100m freestyle relay', '3:03.03'),\n",
       " ('4×100m medley relay', '3:19.16'),\n",
       " ('4×200m freestyle relay', '6:46.81'),\n",
       " ('4×50m freestyle relay', '1:20.77'),\n",
       " ('4×50m medley relay', '1:30.14'),\n",
       " ('50m backstroke', '22.22'),\n",
       " ('50m breaststroke', '24.95'),\n",
       " ('50m butterfly', '21.75'),\n",
       " ('50m freestyle', '20.16'),\n",
       " ('800m freestyle', '7:23.42'),\n",
       " ('100m backstroke', '57.45'),\n",
       " ('100m breaststroke', '1:04.13'),\n",
       " ('100m butterfly', '55.48'),\n",
       " ('100m freestyle', '51.71'),\n",
       " ('1500m freestyle', '15:20.48'),\n",
       " ('200m backstroke', '2:03.35'),\n",
       " ('200m breaststroke', '2:18.95'),\n",
       " ('200m butterfly', '2:01.81'),\n",
       " ('200m freestyle', '1:52.98'),\n",
       " ('200m individual medley', '2:06.12'),\n",
       " ('400m freestyle', '3:56.40'),\n",
       " ('400m individual medley', '4:26.36'),\n",
       " ('4×100m freestyle relay', '3:29.69'),\n",
       " ('4×100m medley relay', '3:50.40'),\n",
       " ('4×200m freestyle relay', '7:39.29'),\n",
       " ('50m backstroke', '26.98'),\n",
       " ('50m breaststroke', '29.30'),\n",
       " ('50m butterfly', '24.43'),\n",
       " ('50m freestyle', '23.67'),\n",
       " ('800m freestyle', '8:04.79')]"
      ]
     },
     "execution_count": 23,
     "metadata": {},
     "output_type": "execute_result"
    }
   ],
   "source": [
    "results"
   ]
  },
  {
   "cell_type": "code",
   "execution_count": 24,
   "metadata": {},
   "outputs": [],
   "source": [
    "# The code which follows uses SQLite3, which is an in-memory, disk-based DBMS.  Nothing needs to exist\n",
    "# for the code to work as SQLite3 creates the files as needed."
   ]
  },
  {
   "cell_type": "code",
   "execution_count": 25,
   "metadata": {},
   "outputs": [],
   "source": [
    "for table in records.keys():\n",
    "    with DBcm.UseDatabase(\"mydata.sqlite3\") as db:\n",
    "        SQL = f\"\"\"\n",
    "                    create table if not exists {table} (\n",
    "                        event varchar(32) not null,\n",
    "                        time varchar(16) not null \n",
    "                    )        \n",
    "        \"\"\"\n",
    "        db.execute(SQL)"
   ]
  },
  {
   "cell_type": "code",
   "execution_count": 26,
   "metadata": {},
   "outputs": [
    {
     "name": "stderr",
     "output_type": "stream",
     "text": [
      "'ls' is not recognized as an internal or external command,\n",
      "operable program or batch file.\n"
     ]
    }
   ],
   "source": [
    "!ls -l *.sqlite3"
   ]
  },
  {
   "cell_type": "code",
   "execution_count": 27,
   "metadata": {},
   "outputs": [],
   "source": [
    "for table in records.keys():\n",
    "    with DBcm.UseDatabase(\"mydata.sqlite3\") as db:\n",
    "        SQL = f\"\"\"\n",
    "                    insert into {table} \n",
    "                    (event, time)\n",
    "                    values \n",
    "                    ( ?, ? )\n",
    "        \"\"\"\n",
    "        data = [row for row in records[table].items()]\n",
    "        db.executemany(SQL, data)"
   ]
  },
  {
   "cell_type": "code",
   "execution_count": 28,
   "metadata": {},
   "outputs": [
    {
     "name": "stderr",
     "output_type": "stream",
     "text": [
      "'ls' is not recognized as an internal or external command,\n",
      "operable program or batch file.\n"
     ]
    }
   ],
   "source": [
    "!ls -l *.sqlite3"
   ]
  },
  {
   "cell_type": "code",
   "execution_count": 29,
   "metadata": {},
   "outputs": [
    {
     "data": {
      "text/plain": [
       "[('100m backstroke', '57.45'),\n",
       " ('100m breaststroke', '1:04.13'),\n",
       " ('100m butterfly', '55.48'),\n",
       " ('100m freestyle', '51.71'),\n",
       " ('1500m freestyle', '15:20.48'),\n",
       " ('200m backstroke', '2:03.35'),\n",
       " ('200m breaststroke', '2:18.95'),\n",
       " ('200m butterfly', '2:01.81'),\n",
       " ('200m freestyle', '1:52.98'),\n",
       " ('200m individual medley', '2:06.12'),\n",
       " ('400m freestyle', '3:56.40'),\n",
       " ('400m individual medley', '4:26.36'),\n",
       " ('4×100m freestyle relay', '3:29.69'),\n",
       " ('4×100m medley relay', '3:50.40'),\n",
       " ('4×200m freestyle relay', '7:39.29'),\n",
       " ('50m backstroke', '26.98'),\n",
       " ('50m breaststroke', '29.30'),\n",
       " ('50m butterfly', '24.43'),\n",
       " ('50m freestyle', '23.67'),\n",
       " ('800m freestyle', '8:04.79')]"
      ]
     },
     "execution_count": 29,
     "metadata": {},
     "output_type": "execute_result"
    }
   ],
   "source": [
    "with DBcm.UseDatabase(\"mydata.sqlite3\") as db:\n",
    "    SQL = \"select * from LCWomen\"\n",
    "    db.execute(SQL)\n",
    "    results = db.fetchall()\n",
    "results"
   ]
  },
  {
   "cell_type": "code",
   "execution_count": null,
   "metadata": {},
   "outputs": [],
   "source": []
  }
 ],
 "metadata": {
  "kernelspec": {
   "display_name": "Python 3",
   "language": "python",
   "name": "python3"
  },
  "language_info": {
   "codemirror_mode": {
    "name": "ipython",
    "version": 3
   },
   "file_extension": ".py",
   "mimetype": "text/x-python",
   "name": "python",
   "nbconvert_exporter": "python",
   "pygments_lexer": "ipython3",
   "version": "3.11.0 (main, Oct 24 2022, 18:26:48) [MSC v.1933 64 bit (AMD64)]"
  },
  "orig_nbformat": 4,
  "vscode": {
   "interpreter": {
    "hash": "e2faac7a1f739cb347a1759e3578ad025fec904b94ab3d4af7ea1f5678246581"
   }
  }
 },
 "nbformat": 4,
 "nbformat_minor": 2
}
