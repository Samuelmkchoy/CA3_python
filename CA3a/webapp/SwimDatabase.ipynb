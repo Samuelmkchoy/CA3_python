{
 "cells": [
  {
   "cell_type": "markdown",
   "metadata": {},
   "source": [
    "\n",
    "swimmers:\n",
    "\n",
    "    unique id\n",
    "    name \n",
    "    age \n",
    "\n",
    "\n",
    "strokes:\n",
    "\n",
    "    unique id \n",
    "    distance \n",
    "    stroke \n",
    "\n",
    "\n",
    "times:\n",
    "\n",
    "    swimmer_id\n",
    "    stroke_id\n",
    "    time \n",
    "    timestamp\n",
    "\n",
    "\n",
    "create database swimdataDB;\n",
    "\n",
    "grant all on swimdataDB.* to 'swimuser'@'localhost' identified by 'swimpasswd';\n",
    "\n",
    "create table swimmers (\n",
    "    id int not null auto_increment primary key,\n",
    "    name varchar(32) not null,\n",
    "    age int not null\n",
    ");\n",
    "\n",
    "create table strokes (\n",
    "    id int not null auto_increment primary key,\n",
    "    distance varchar(16) not null,\n",
    "    stroke varchar(16) not null\n",
    ");\n",
    "\n",
    "create table times (\n",
    "    swimmer_id int not null,\n",
    "    stroke_id int not null,\n",
    "    time varchar(16) not null,\n",
    "    ts timestamp default current_timestamp\n",
    ");\n",
    "\n",
    "----------------------------------------------------------------------\n",
    "\n",
    "MariaDB [swimdataDB]> describe strokes;\n",
    "+----------+-------------+------+-----+---------+----------------+\n",
    "| Field    | Type        | Null | Key | Default | Extra          |\n",
    "+----------+-------------+------+-----+---------+----------------+\n",
    "| id       | int(11)     | NO   | PRI | NULL    | auto_increment |\n",
    "| distance | varchar(16) | NO   |     | NULL    |                |\n",
    "| stroke   | varchar(16) | NO   |     | NULL    |                |\n",
    "+----------+-------------+------+-----+---------+----------------+\n",
    "\n",
    "\n",
    "MariaDB [swimdataDB]> describe swimmers;\n",
    "+-------+-------------+------+-----+---------+----------------+\n",
    "| Field | Type        | Null | Key | Default | Extra          |\n",
    "+-------+-------------+------+-----+---------+----------------+\n",
    "| id    | int(11)     | NO   | PRI | NULL    | auto_increment |\n",
    "| name  | varchar(32) | NO   |     | NULL    |                |\n",
    "| age   | int(11)     | NO   |     | NULL    |                |\n",
    "+-------+-------------+------+-----+---------+----------------+\n",
    "\n",
    "\n",
    "MariaDB [swimdataDB]> describe times;\n",
    "+------------+-------------+------+-----+---------------------+-------+\n",
    "| Field      | Type        | Null | Key | Default             | Extra |\n",
    "+------------+-------------+------+-----+---------------------+-------+\n",
    "| swimmer_id | int(11)     | NO   |     | NULL                |       |\n",
    "| stroke_id  | int(11)     | NO   |     | NULL                |       |\n",
    "| time       | varchar(16) | NO   |     | NULL                |       |\n",
    "| ts         | timestamp   | YES  |     | current_timestamp() |       |\n",
    "+------------+-------------+------+-----+---------------------+-------+\n"
   ]
  },
  {
   "cell_type": "code",
   "execution_count": 1,
   "metadata": {},
   "outputs": [
    {
     "name": "stdout",
     "output_type": "stream",
     "text": [
      "Requirement already satisfied: mycli in c:\\users\\samue\\appdata\\local\\programs\\python\\python311\\lib\\site-packages (1.26.1)\n",
      "Requirement already satisfied: click>=7.0 in c:\\users\\samue\\appdata\\local\\programs\\python\\python311\\lib\\site-packages (from mycli) (8.1.3)\n",
      "Requirement already satisfied: cryptography==36.0.2 in c:\\users\\samue\\appdata\\local\\programs\\python\\python311\\lib\\site-packages (from mycli) (36.0.2)\n",
      "Requirement already satisfied: Pygments>=1.6 in c:\\users\\samue\\appdata\\roaming\\python\\python311\\site-packages (from mycli) (2.14.0)\n",
      "Requirement already satisfied: prompt-toolkit<4.0.0,>=3.0.6 in c:\\users\\samue\\appdata\\roaming\\python\\python311\\site-packages (from mycli) (3.0.36)\n",
      "Requirement already satisfied: PyMySQL>=0.9.2 in c:\\users\\samue\\appdata\\local\\programs\\python\\python311\\lib\\site-packages (from mycli) (1.0.2)\n",
      "Requirement already satisfied: sqlparse<0.5.0,>=0.3.0 in c:\\users\\samue\\appdata\\local\\programs\\python\\python311\\lib\\site-packages (from mycli) (0.4.3)\n",
      "Requirement already satisfied: sqlglot>=5.1.3 in c:\\users\\samue\\appdata\\local\\programs\\python\\python311\\lib\\site-packages (from mycli) (10.5.10)\n",
      "Requirement already satisfied: configobj>=5.0.5 in c:\\users\\samue\\appdata\\local\\programs\\python\\python311\\lib\\site-packages (from mycli) (5.0.8)\n",
      "Requirement already satisfied: cli-helpers[styles]>=2.2.1 in c:\\users\\samue\\appdata\\local\\programs\\python\\python311\\lib\\site-packages (from mycli) (2.3.0)\n",
      "Requirement already satisfied: pyperclip>=1.8.1 in c:\\users\\samue\\appdata\\local\\programs\\python\\python311\\lib\\site-packages (from mycli) (1.8.2)\n",
      "Requirement already satisfied: pyaes>=1.6.1 in c:\\users\\samue\\appdata\\local\\programs\\python\\python311\\lib\\site-packages (from mycli) (1.6.1)\n",
      "Requirement already satisfied: importlib-resources>=5.0.0 in c:\\users\\samue\\appdata\\local\\programs\\python\\python311\\lib\\site-packages (from mycli) (5.10.2)\n",
      "Requirement already satisfied: cffi>=1.12 in c:\\users\\samue\\appdata\\local\\programs\\python\\python311\\lib\\site-packages (from cryptography==36.0.2->mycli) (1.15.1)\n",
      "Requirement already satisfied: tabulate[widechars]>=0.8.2 in c:\\users\\samue\\appdata\\local\\programs\\python\\python311\\lib\\site-packages (from cli-helpers[styles]>=2.2.1->mycli) (0.9.0)\n",
      "Requirement already satisfied: colorama in c:\\users\\samue\\appdata\\local\\programs\\python\\python311\\lib\\site-packages (from click>=7.0->mycli) (0.4.6)\n",
      "Requirement already satisfied: six in c:\\users\\samue\\appdata\\roaming\\python\\python311\\site-packages (from configobj>=5.0.5->mycli) (1.16.0)\n",
      "Requirement already satisfied: wcwidth in c:\\users\\samue\\appdata\\roaming\\python\\python311\\site-packages (from prompt-toolkit<4.0.0,>=3.0.6->mycli) (0.2.6)\n",
      "Requirement already satisfied: pycparser in c:\\users\\samue\\appdata\\local\\programs\\python\\python311\\lib\\site-packages (from cffi>=1.12->cryptography==36.0.2->mycli) (2.21)\n",
      "Note: you may need to restart the kernel to use updated packages.\n"
     ]
    }
   ],
   "source": [
    "%pip install mycli --upgrade"
   ]
  },
  {
   "cell_type": "code",
   "execution_count": 2,
   "metadata": {},
   "outputs": [],
   "source": [
    "import os\n",
    "\n",
    "FOLDER = \"swimdata/\"\n",
    "\n",
    "files = os.listdir(FOLDER)\n",
    "\n",
    "files.remove(\".DS_Store\")"
   ]
  },
  {
   "cell_type": "code",
   "execution_count": 3,
   "metadata": {},
   "outputs": [
    {
     "data": {
      "text/plain": [
       "37"
      ]
     },
     "execution_count": 3,
     "metadata": {},
     "output_type": "execute_result"
    }
   ],
   "source": [
    "len(files)"
   ]
  },
  {
   "cell_type": "code",
   "execution_count": 4,
   "metadata": {},
   "outputs": [
    {
     "name": "stdout",
     "output_type": "stream",
     "text": [
      "['Abi-10-100m-Back.txt', 'Abi-10-100m-Breast.txt', 'Ali-12-100m-Back.txt', 'Ali-12-100m-Free.txt', 'Aurora-13-50m-Free.txt', 'Bill-18-100m-Back.txt', 'Bill-18-200m-Back.txt', 'Calvin-9-50m-Back.txt', 'Calvin-9-50m-Fly.txt', 'Carl-15-100m-Back.txt', 'Chris-17-100m-Back.txt', 'Chris-17-100m-Breast.txt', 'Darius-13-100m-Fly.txt', 'Darius-13-200m-IM.txt', 'Dave-17-100m-Free.txt', 'Dave-17-200m-Back.txt', 'Elba-14-100m-Free.txt', 'Emma-13-100m-Breast.txt', 'Emma-13-100m-Free.txt', 'Lizzie-14-100m-Back.txt', 'Lizzie-14-100m-Free.txt', 'Maria-9-50m-Free.txt', 'Mike-15-100m-Back.txt', 'Mike-15-100m-Fly.txt', 'Mike-15-100m-Free.txt', 'Mike-15-200m-Free.txt', 'Mike-15-200m-IM.txt', 'Owen-15-100m-Free.txt', 'Ruth-13-100m-Back.txt', 'Ruth-13-100m-Free.txt', 'Ruth-13-200m-Back.txt', 'Ruth-13-200m-Free.txt', 'Ruth-13-400m-Free.txt', 'Tasmin-15-100m-Back.txt', 'Tasmin-15-100m-Breast.txt', 'Tasmin-15-100m-Free.txt', 'Tasmin-15-200m-Breast.txt']\n"
     ]
    }
   ],
   "source": [
    "print(files)"
   ]
  },
  {
   "cell_type": "code",
   "execution_count": 5,
   "metadata": {},
   "outputs": [],
   "source": [
    "import DBcm"
   ]
  },
  {
   "cell_type": "code",
   "execution_count": 6,
   "metadata": {},
   "outputs": [],
   "source": [
    "config = {\n",
    "    \"user\": \"swimuser\",\n",
    "    \"password\": \"swimpasswd\",\n",
    "    \"host\": \"localhost\",\n",
    "    \"database\": \"swimdataDB\",\n",
    "}"
   ]
  },
  {
   "cell_type": "code",
   "execution_count": 7,
   "metadata": {},
   "outputs": [],
   "source": [
    "with DBcm.UseDatabase(config) as db:\n",
    "    name = \"Abi\"\n",
    "    age = 9\n",
    "    SQL = \"select * from swimmers where name = %s and age = %s;\"  # %s is a placeholder.\n",
    "    db.execute(SQL, (name, age))\n",
    "    results = db.fetchall()"
   ]
  },
  {
   "cell_type": "code",
   "execution_count": 8,
   "metadata": {},
   "outputs": [
    {
     "data": {
      "text/plain": [
       "[]"
      ]
     },
     "execution_count": 8,
     "metadata": {},
     "output_type": "execute_result"
    }
   ],
   "source": [
    "results"
   ]
  },
  {
   "cell_type": "code",
   "execution_count": 9,
   "metadata": {},
   "outputs": [],
   "source": [
    "def insert_if_not_already_there(connection, table, field1, field2, value1, value2):\n",
    "    SQL = f\"select * from {table} where {field1} = %s and {field2} = %s;\"\n",
    "    connection.execute(SQL, (value1, value2))\n",
    "    results = connection.fetchall()\n",
    "    if results:\n",
    "        pass\n",
    "    else:\n",
    "        SQL = f\"insert into {table} ({field1}, {field2}) values (%s, %s)\"\n",
    "        db.execute(SQL, (value1, value2))"
   ]
  },
  {
   "cell_type": "code",
   "execution_count": 10,
   "metadata": {},
   "outputs": [],
   "source": [
    "with DBcm.UseDatabase(config) as db:\n",
    "    for fn in files:\n",
    "        name, age, distance, stroke = fn.removesuffix(\".txt\").split(\"-\")\n",
    "        insert_if_not_already_there(db, \"swimmers\", \"name\", \"age\", name, age)\n",
    "        insert_if_not_already_there(\n",
    "            db, \"strokes\", \"distance\", \"stroke\", distance, stroke\n",
    "        )"
   ]
  },
  {
   "cell_type": "code",
   "execution_count": 11,
   "metadata": {},
   "outputs": [
    {
     "data": {
      "text/plain": [
       "8"
      ]
     },
     "execution_count": 11,
     "metadata": {},
     "output_type": "execute_result"
    }
   ],
   "source": [
    "with DBcm.UseDatabase(config) as db:\n",
    "    SQL = \"select id from swimmers where name = 'Darius' and age = 13\"\n",
    "    db.execute(SQL)\n",
    "    results = db.fetchone()[0]\n",
    "results"
   ]
  },
  {
   "cell_type": "code",
   "execution_count": 12,
   "metadata": {},
   "outputs": [],
   "source": [
    "def get_id(connection, table, field1, field2, value1, value2):\n",
    "    SQL = f\"select id from {table} where {field1} = %s and {field2} = %s\"\n",
    "    connection.execute(SQL, (value1, value2))\n",
    "    return connection.fetchone()[0]"
   ]
  },
  {
   "cell_type": "code",
   "execution_count": 13,
   "metadata": {},
   "outputs": [],
   "source": [
    "import swimclub\n",
    "\n",
    "with DBcm.UseDatabase(config) as db:\n",
    "    for fn in files:\n",
    "        *_, times, _ = swimclub.get_swim_data(fn)\n",
    "        name, age, distance, stroke = fn.removesuffix(\".txt\").split(\"-\")\n",
    "        swimmer_id = get_id(db, \"swimmers\", \"name\", \"age\", name, age)\n",
    "        stroke_id = get_id(db, \"strokes\", \"distance\", \"stroke\", distance, stroke)\n",
    "        for t in times:\n",
    "            SQL = \"insert into times (swimmer_id, stroke_id, time) values (%s, %s, %s)\"\n",
    "            db.execute(SQL, (swimmer_id, stroke_id, t))"
   ]
  },
  {
   "cell_type": "markdown",
   "metadata": {},
   "source": [
    "##### At this point, the data is in the database tables, so we can work with it (as opposed to going back to the filesystem)."
   ]
  },
  {
   "cell_type": "code",
   "execution_count": 14,
   "metadata": {},
   "outputs": [],
   "source": [
    "import DBcm\n",
    "\n",
    "config = {\n",
    "    \"user\": \"swimuser\",\n",
    "    \"password\": \"swimpasswd\",\n",
    "    \"host\": \"localhost\",\n",
    "    \"database\": \"swimdataDB\",\n",
    "}\n",
    "\n",
    "swimmer_name = \"Katie\"\n",
    "swimmer_age = 9\n",
    "\n",
    "event_distance = \"100m\"\n",
    "event_stroke = \"Back\"\n",
    "\n",
    "SQL = \"\"\"\n",
    "        select swimmers.name, swimmers.age, times.time, strokes.distance, strokes.stroke, times.ts\n",
    "        from swimmers, times, strokes\n",
    "        where (swimmers.name = %s and swimmers.age = %s) and\n",
    "        (strokes.distance = %s and strokes.stroke = %s) and\n",
    "        swimmers.id = times.swimmer_id and\n",
    "        strokes.id = times.stroke_id\n",
    "\"\"\"\n",
    "\n",
    "with DBcm.UseDatabase(config) as db:\n",
    "    db.execute(\n",
    "        SQL,\n",
    "        (\n",
    "            swimmer_name,\n",
    "            swimmer_age,\n",
    "            event_distance,\n",
    "            event_stroke,\n",
    "        ),\n",
    "    )\n",
    "    results = db.fetchall()"
   ]
  },
  {
   "cell_type": "code",
   "execution_count": 15,
   "metadata": {},
   "outputs": [],
   "source": [
    "for row in results:\n",
    "    print(row)"
   ]
  },
  {
   "cell_type": "code",
   "execution_count": 16,
   "metadata": {},
   "outputs": [],
   "source": [
    "import DBcm\n",
    "\n",
    "config = {\n",
    "    \"user\": \"swimuser\",\n",
    "    \"password\": \"swimpasswd\",\n",
    "    \"host\": \"localhost\",\n",
    "    \"database\": \"swimdataDB\",\n",
    "}\n",
    "\n",
    "\n",
    "def get_swimmers_data(name, age, distance, stroke):\n",
    "    SQL = \"\"\"\n",
    "        select swimmers.name, swimmers.age, times.time, strokes.distance, strokes.stroke, times.ts\n",
    "        from swimmers, times, strokes\n",
    "        where (swimmers.name = %s and swimmers.age = %s) and\n",
    "        (strokes.distance = %s and strokes.stroke = %s) and\n",
    "        swimmers.id = times.swimmer_id and\n",
    "        strokes.id = times.stroke_id\n",
    "    \"\"\"\n",
    "    with DBcm.UseDatabase(config) as db:\n",
    "        db.execute(\n",
    "            SQL,\n",
    "            (\n",
    "                name,\n",
    "                age,\n",
    "                distance,\n",
    "                stroke,\n",
    "            ),\n",
    "        )\n",
    "        results = db.fetchall()\n",
    "    return results"
   ]
  },
  {
   "cell_type": "code",
   "execution_count": 17,
   "metadata": {},
   "outputs": [
    {
     "name": "stdout",
     "output_type": "stream",
     "text": [
      "('Darius', 13, '3:03.84', '200m', 'IM', datetime.datetime(2023, 1, 28, 18, 48, 19))\n",
      "('Darius', 13, '3:04.27', '200m', 'IM', datetime.datetime(2023, 1, 28, 18, 48, 19))\n",
      "('Darius', 13, '3:01.49', '200m', 'IM', datetime.datetime(2023, 1, 28, 18, 48, 19))\n",
      "('Darius', 13, '3:04.27', '200m', 'IM', datetime.datetime(2023, 1, 28, 18, 48, 19))\n",
      "('Darius', 13, '2:52.44', '200m', 'IM', datetime.datetime(2023, 1, 28, 18, 48, 19))\n"
     ]
    }
   ],
   "source": [
    "for row in get_swimmers_data(\"Darius\", 13, \"200m\", \"IM\"):\n",
    "    print(row)"
   ]
  },
  {
   "cell_type": "code",
   "execution_count": 18,
   "metadata": {},
   "outputs": [
    {
     "name": "stdout",
     "output_type": "stream",
     "text": [
      "('Chris', 17, '1:21.76', '100m', 'Back', datetime.datetime(2023, 1, 28, 18, 48, 19))\n",
      "('Chris', 17, '1:23.32', '100m', 'Back', datetime.datetime(2023, 1, 28, 18, 48, 19))\n",
      "('Chris', 17, '1:24.09', '100m', 'Back', datetime.datetime(2023, 1, 28, 18, 48, 19))\n",
      "('Chris', 17, '1:21.51', '100m', 'Back', datetime.datetime(2023, 1, 28, 18, 48, 19))\n"
     ]
    }
   ],
   "source": [
    "for row in get_swimmers_data(\"Chris\", 17, \"100m\", \"Back\"):\n",
    "    print(row)"
   ]
  },
  {
   "cell_type": "code",
   "execution_count": 19,
   "metadata": {},
   "outputs": [
    {
     "data": {
      "text/plain": [
       "[]"
      ]
     },
     "execution_count": 19,
     "metadata": {},
     "output_type": "execute_result"
    }
   ],
   "source": [
    "# List a named swimmer's events (as stored in the database).\n",
    "\n",
    "import DBcm\n",
    "\n",
    "config = {\n",
    "    \"user\": \"swimuser\",\n",
    "    \"password\": \"swimpasswd\",\n",
    "    \"host\": \"localhost\",\n",
    "    \"database\": \"swimdataDB\",\n",
    "}\n",
    "\n",
    "swimmer = \"Hannah\"\n",
    "\n",
    "SQL = \"\"\" \n",
    "    select distinct strokes.distance, strokes.stroke\n",
    "    from swimmers, strokes, times\n",
    "    where times.swimmer_id = swimmers.id and\n",
    "    times.stroke_id = strokes.id and\n",
    "    swimmers.name = %s;\n",
    "\"\"\"\n",
    "\n",
    "with DBcm.UseDatabase(config) as db:\n",
    "    db.execute(SQL, (swimmer,))\n",
    "    results = db.fetchall()\n",
    "results\n",
    "## list(set(results))"
   ]
  },
  {
   "cell_type": "code",
   "execution_count": 20,
   "metadata": {},
   "outputs": [
    {
     "data": {
      "text/plain": [
       "[]"
      ]
     },
     "execution_count": 20,
     "metadata": {},
     "output_type": "execute_result"
    }
   ],
   "source": [
    "events = [t[0] + \"-\" + t[1] for t in results]\n",
    "events"
   ]
  },
  {
   "cell_type": "code",
   "execution_count": 21,
   "metadata": {},
   "outputs": [],
   "source": [
    "SQL = \"select name from swimmers\"\n",
    "with DBcm.UseDatabase(config) as db:\n",
    "    db.execute(SQL)\n",
    "    results = db.fetchall()"
   ]
  },
  {
   "cell_type": "code",
   "execution_count": 22,
   "metadata": {},
   "outputs": [
    {
     "data": {
      "text/plain": [
       "[('Abi',),\n",
       " ('Ali',),\n",
       " ('Aurora',),\n",
       " ('Bill',),\n",
       " ('Calvin',),\n",
       " ('Carl',),\n",
       " ('Chris',),\n",
       " ('Darius',),\n",
       " ('Dave',),\n",
       " ('Elba',),\n",
       " ('Emma',),\n",
       " ('Lizzie',),\n",
       " ('Maria',),\n",
       " ('Mike',),\n",
       " ('Owen',),\n",
       " ('Ruth',),\n",
       " ('Tasmin',)]"
      ]
     },
     "execution_count": 22,
     "metadata": {},
     "output_type": "execute_result"
    }
   ],
   "source": [
    "results"
   ]
  },
  {
   "cell_type": "code",
   "execution_count": 23,
   "metadata": {},
   "outputs": [],
   "source": [
    "names = [t[0] for t in results]  # 't' is the current tuple."
   ]
  },
  {
   "cell_type": "code",
   "execution_count": 24,
   "metadata": {},
   "outputs": [
    {
     "name": "stdout",
     "output_type": "stream",
     "text": [
      "['Abi', 'Ali', 'Aurora', 'Bill', 'Calvin', 'Carl', 'Chris', 'Darius', 'Dave', 'Elba', 'Emma', 'Lizzie', 'Maria', 'Mike', 'Owen', 'Ruth', 'Tasmin']\n"
     ]
    }
   ],
   "source": [
    "print(sorted(names))"
   ]
  },
  {
   "cell_type": "code",
   "execution_count": null,
   "metadata": {},
   "outputs": [],
   "source": []
  },
  {
   "cell_type": "code",
   "execution_count": 25,
   "metadata": {},
   "outputs": [],
   "source": [
    "import data_utils"
   ]
  },
  {
   "cell_type": "code",
   "execution_count": 26,
   "metadata": {},
   "outputs": [
    {
     "data": {
      "text/plain": [
       "[(datetime.datetime(2023, 1, 28, 18, 48, 19),)]"
      ]
     },
     "execution_count": 26,
     "metadata": {},
     "output_type": "execute_result"
    }
   ],
   "source": [
    "data_utils.get_list_of_sessions()"
   ]
  },
  {
   "cell_type": "code",
   "execution_count": 27,
   "metadata": {},
   "outputs": [],
   "source": [
    "sessions = data_utils.get_list_of_sessions()"
   ]
  },
  {
   "cell_type": "code",
   "execution_count": 28,
   "metadata": {},
   "outputs": [
    {
     "data": {
      "text/plain": [
       "[(datetime.datetime(2023, 1, 28, 18, 48, 19),)]"
      ]
     },
     "execution_count": 28,
     "metadata": {},
     "output_type": "execute_result"
    }
   ],
   "source": [
    "sessions"
   ]
  },
  {
   "cell_type": "code",
   "execution_count": 29,
   "metadata": {},
   "outputs": [
    {
     "data": {
      "text/plain": [
       "datetime.datetime(2023, 1, 28, 18, 48, 19)"
      ]
     },
     "execution_count": 29,
     "metadata": {},
     "output_type": "execute_result"
    }
   ],
   "source": [
    "sessions[0][0]"
   ]
  },
  {
   "cell_type": "code",
   "execution_count": 30,
   "metadata": {},
   "outputs": [
    {
     "name": "stdout",
     "output_type": "stream",
     "text": [
      "['__add__', '__class__', '__delattr__', '__dir__', '__doc__', '__eq__', '__format__', '__ge__', '__getattribute__', '__getstate__', '__gt__', '__hash__', '__init__', '__init_subclass__', '__le__', '__lt__', '__ne__', '__new__', '__radd__', '__reduce__', '__reduce_ex__', '__repr__', '__rsub__', '__setattr__', '__sizeof__', '__str__', '__sub__', '__subclasshook__', 'astimezone', 'combine', 'ctime', 'date', 'day', 'dst', 'fold', 'fromisocalendar', 'fromisoformat', 'fromordinal', 'fromtimestamp', 'hour', 'isocalendar', 'isoformat', 'isoweekday', 'max', 'microsecond', 'min', 'minute', 'month', 'now', 'replace', 'resolution', 'second', 'strftime', 'strptime', 'time', 'timestamp', 'timetuple', 'timetz', 'today', 'toordinal', 'tzinfo', 'tzname', 'utcfromtimestamp', 'utcnow', 'utcoffset', 'utctimetuple', 'weekday', 'year']\n"
     ]
    }
   ],
   "source": [
    "print(dir(sessions[0][0]))"
   ]
  },
  {
   "cell_type": "code",
   "execution_count": 31,
   "metadata": {},
   "outputs": [
    {
     "data": {
      "text/plain": [
       "'Sat Jan 28 18:48:19 2023'"
      ]
     },
     "execution_count": 31,
     "metadata": {},
     "output_type": "execute_result"
    }
   ],
   "source": [
    "sessions[0][0].ctime()"
   ]
  },
  {
   "cell_type": "code",
   "execution_count": 32,
   "metadata": {},
   "outputs": [
    {
     "data": {
      "text/plain": [
       "'2023-01-28T18:48:19'"
      ]
     },
     "execution_count": 32,
     "metadata": {},
     "output_type": "execute_result"
    }
   ],
   "source": [
    "sessions[0][0].isoformat()"
   ]
  },
  {
   "cell_type": "code",
   "execution_count": 33,
   "metadata": {},
   "outputs": [
    {
     "data": {
      "text/plain": [
       "'2023-01-28'"
      ]
     },
     "execution_count": 33,
     "metadata": {},
     "output_type": "execute_result"
    }
   ],
   "source": [
    "sessions[0][0].isoformat().split(\"T\")[0]"
   ]
  },
  {
   "cell_type": "code",
   "execution_count": 34,
   "metadata": {},
   "outputs": [
    {
     "data": {
      "text/plain": [
       "'18:48:19'"
      ]
     },
     "execution_count": 34,
     "metadata": {},
     "output_type": "execute_result"
    }
   ],
   "source": [
    "sessions[0][0].isoformat().split(\"T\")[1]"
   ]
  },
  {
   "cell_type": "code",
   "execution_count": 35,
   "metadata": {},
   "outputs": [
    {
     "name": "stdout",
     "output_type": "stream",
     "text": [
      "2023-01-28\n"
     ]
    }
   ],
   "source": [
    "for row in sessions:\n",
    "    print(row[0].isoformat().split(\"T\")[0])"
   ]
  },
  {
   "cell_type": "code",
   "execution_count": 36,
   "metadata": {},
   "outputs": [],
   "source": [
    "SQL = \"\"\"select * from times where date_format(ts, \"%Y-%m-%d\") = \"2022-12-08\";\"\"\""
   ]
  },
  {
   "cell_type": "code",
   "execution_count": 37,
   "metadata": {},
   "outputs": [],
   "source": [
    "sessions = [\n",
    "    row[0].isoformat().split(\"T\")[0] for row in data_utils.get_list_of_sessions()\n",
    "]"
   ]
  },
  {
   "cell_type": "code",
   "execution_count": 38,
   "metadata": {},
   "outputs": [
    {
     "data": {
      "text/plain": [
       "['2023-01-28']"
      ]
     },
     "execution_count": 38,
     "metadata": {},
     "output_type": "execute_result"
    }
   ],
   "source": [
    "sessions"
   ]
  },
  {
   "cell_type": "code",
   "execution_count": 39,
   "metadata": {},
   "outputs": [
    {
     "data": {
      "text/plain": [
       "['2023-01-28']"
      ]
     },
     "execution_count": 39,
     "metadata": {},
     "output_type": "execute_result"
    }
   ],
   "source": [
    "sorted(sessions, reverse=True)"
   ]
  },
  {
   "cell_type": "code",
   "execution_count": 40,
   "metadata": {},
   "outputs": [
    {
     "data": {
      "text/plain": [
       "['2026-01-01', '2022-12-08', '2022-12-01']"
      ]
     },
     "execution_count": 40,
     "metadata": {},
     "output_type": "execute_result"
    }
   ],
   "source": [
    "sorted([\"2022-12-08\", \"2022-12-01\", \"2026-01-01\"], reverse=True)"
   ]
  },
  {
   "cell_type": "code",
   "execution_count": 41,
   "metadata": {},
   "outputs": [],
   "source": [
    "SQL = \"\"\"\n",
    "    select distinct swimmers.name   \n",
    "    from times, swimmers \n",
    "    where date_format(times.ts, \"%Y-%m-%d\") = %s and     \n",
    "    times.swimmer_id = swimmers.id \n",
    "    order by name\n",
    "\"\"\""
   ]
  },
  {
   "cell_type": "code",
   "execution_count": 42,
   "metadata": {},
   "outputs": [
    {
     "data": {
      "text/plain": [
       "['Abi',\n",
       " 'Ali',\n",
       " 'Aurora',\n",
       " 'Bill',\n",
       " 'Calvin',\n",
       " 'Carl',\n",
       " 'Chris',\n",
       " 'Darius',\n",
       " 'Dave',\n",
       " 'Elba',\n",
       " 'Emma',\n",
       " 'Lizzie',\n",
       " 'Maria',\n",
       " 'Mike',\n",
       " 'Owen',\n",
       " 'Ruth',\n",
       " 'Tasmin']"
      ]
     },
     "execution_count": 42,
     "metadata": {},
     "output_type": "execute_result"
    }
   ],
   "source": [
    "with DBcm.UseDatabase(config) as db:\n",
    "    db.execute(SQL, (sessions[0],))\n",
    "    results = db.fetchall()\n",
    "[row[0] for row in results]"
   ]
  },
  {
   "cell_type": "code",
   "execution_count": null,
   "metadata": {},
   "outputs": [],
   "source": []
  }
 ],
 "metadata": {
  "kernelspec": {
   "display_name": "Python 3",
   "language": "python",
   "name": "python3"
  },
  "language_info": {
   "codemirror_mode": {
    "name": "ipython",
    "version": 3
   },
   "file_extension": ".py",
   "mimetype": "text/x-python",
   "name": "python",
   "nbconvert_exporter": "python",
   "pygments_lexer": "ipython3",
   "version": "3.11.0 (main, Oct 24 2022, 18:26:48) [MSC v.1933 64 bit (AMD64)]"
  },
  "vscode": {
   "interpreter": {
    "hash": "e2faac7a1f739cb347a1759e3578ad025fec904b94ab3d4af7ea1f5678246581"
   }
  }
 },
 "nbformat": 4,
 "nbformat_minor": 2
}
